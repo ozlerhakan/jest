{
 "cells": [
  {
   "cell_type": "markdown",
   "id": "4c3ebd1c-ac7c-414c-86d8-283a01151bcd",
   "metadata": {},
   "source": [
    "## Installation"
   ]
  },
  {
   "cell_type": "code",
   "execution_count": null,
   "id": "ec8a193d-af34-403c-857b-d1225eb884c0",
   "metadata": {},
   "outputs": [],
   "source": [
    "pip install jest"
   ]
  },
  {
   "cell_type": "markdown",
   "id": "46a12be5-714b-4198-ab11-a13a05b21092",
   "metadata": {},
   "source": [
    "## Load magic command `jest`"
   ]
  },
  {
   "cell_type": "code",
   "execution_count": null,
   "id": "a2548ba3-5644-45dc-9112-34f572b9ef9e",
   "metadata": {},
   "outputs": [],
   "source": [
    "%load_ext jest"
   ]
  },
  {
   "cell_type": "code",
   "execution_count": null,
   "id": "4372c5f9-3481-4d5e-9fe7-caf0853a2458",
   "metadata": {},
   "outputs": [],
   "source": []
  },
  {
   "cell_type": "markdown",
   "id": "0b72e1cc-0d80-48ce-9d5d-f2ea3f446e27",
   "metadata": {},
   "source": [
    "## Basic Request 1 response with payload"
   ]
  },
  {
   "cell_type": "code",
   "execution_count": null,
   "id": "746dcb3a-2d6c-4100-bf99-095db25bc145",
   "metadata": {},
   "outputs": [],
   "source": [
    "%%jest --var df\n",
    "\n",
    "{\n",
    "    \"url\": \"http://localhost:8080/path\",\n",
    "    \"request\": \"get\",\n",
    "    \"payload\": {\"key1\": \"value1\", \"key2\": [\"value2\", \"value3\"]}\n",
    "    \"headers\": {\"accept\": \"application/json\"}\n",
    "}"
   ]
  },
  {
   "cell_type": "code",
   "execution_count": null,
   "id": "f7f7f4fb-8c57-4f52-8af2-f143357086f3",
   "metadata": {},
   "outputs": [],
   "source": []
  },
  {
   "cell_type": "markdown",
   "id": "df6bbbec-5908-4551-8052-87cd817c6f31",
   "metadata": {},
   "source": [
    "## Request 1 response with headers and body"
   ]
  },
  {
   "cell_type": "code",
   "execution_count": null,
   "id": "9a641907-204f-4827-a7e0-ec4bc92b1733",
   "metadata": {},
   "outputs": [],
   "source": [
    "%%jest --var df\n",
    "\n",
    "{\n",
    "    \"url\": \"http://localhost:8091\",\n",
    "    \"request\": \"post\",\n",
    "    \"body\": {\n",
    "      \"field\": \"value\",\n",
    "      \"field\": \"value\",\n",
    "      \"field\": {\n",
    "        \"field\": \"value\"\n",
    "      },\n",
    "      \"field\": \"value\"\n",
    "    },\n",
    "    \"headers\": {\n",
    "        \"Content-Type\": \"application/json\", \n",
    "        \"Authorization\": \"Basic ASDBSADAW\"\n",
    "    }\n",
    "}"
   ]
  },
  {
   "cell_type": "code",
   "execution_count": null,
   "id": "c2c261d7-b044-432e-9eb6-0ed6205132e4",
   "metadata": {},
   "outputs": [],
   "source": []
  },
  {
   "cell_type": "markdown",
   "id": "89620092-9242-4657-88cd-73dac8904bc6",
   "metadata": {},
   "source": [
    "## Request 2 responses with `--params`"
   ]
  },
  {
   "cell_type": "code",
   "execution_count": null,
   "id": "0baa4a08-546b-42b9-a26f-f1727f5e3a6d",
   "metadata": {},
   "outputs": [],
   "source": [
    "consumes = [\n",
    "    dict(original_keyword='iphone'),\n",
    "    dict(original_keyword='phone')\n",
    "]"
   ]
  },
  {
   "cell_type": "code",
   "execution_count": null,
   "id": "47ab54d9-4519-44f5-bfa8-002fb10a83a6",
   "metadata": {},
   "outputs": [],
   "source": [
    "%%jest --var responses --params consumes\n",
    "\n",
    "{\n",
    "    \"url\": \"http://localhost:8080/path\",\n",
    "    \"request\": \"post\",\n",
    "    \"body\": {\n",
    "      \"field\": \"@original_keyword\",\n",
    "      \"field\": 1\n",
    "    },\n",
    "    \"headers\": {\n",
    "        \"Content-Type\": \"application/json\", \n",
    "        \"Authorization\": \"Bearer ASDASADAS\",\n",
    "        \"Cookie\": \"auth_cookie=ASDADASDA\"\n",
    "    }\n",
    "}"
   ]
  },
  {
   "cell_type": "code",
   "execution_count": null,
   "id": "35b2c413-f4ae-4107-8796-b2e93c663a91",
   "metadata": {},
   "outputs": [],
   "source": [
    "len(responses) # 2 for each item of `consumes`"
   ]
  },
  {
   "cell_type": "code",
   "execution_count": null,
   "id": "839a3acd-07cc-4a89-a103-9f3a55325af2",
   "metadata": {},
   "outputs": [],
   "source": []
  }
 ],
 "metadata": {
  "kernelspec": {
   "display_name": "Python 3 (ipykernel)",
   "language": "python",
   "name": "python3"
  },
  "language_info": {
   "codemirror_mode": {
    "name": "ipython",
    "version": 3
   },
   "file_extension": ".py",
   "mimetype": "text/x-python",
   "name": "python",
   "nbconvert_exporter": "python",
   "pygments_lexer": "ipython3",
   "version": "3.7.8"
  }
 },
 "nbformat": 4,
 "nbformat_minor": 5
}